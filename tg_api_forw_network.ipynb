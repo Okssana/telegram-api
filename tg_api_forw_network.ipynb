{
 "cells": [
  {
   "cell_type": "code",
   "execution_count": null,
   "metadata": {},
   "outputs": [],
   "source": [
    "#### Network Analysis of TG channels ####\n",
    "\n",
    "\n",
    "import os \n",
    "from datetime import datetime\n",
    "import pandas as pd\n",
    "\n",
    "\n",
    "# read all csv files with startswith 'messages'\n",
    "files = [f for f in os.listdir() if f.startswith('messages')]\n",
    "df = pd.concat([pd.read_csv(f) for f in files])\n"
   ]
  },
  {
   "cell_type": "code",
   "execution_count": null,
   "metadata": {},
   "outputs": [],
   "source": [
    "# count the number of unique values in the column 'Forwarder'\n",
    "print(\"Number of unique forwarders:\", df['Forwarder'].nunique())\n",
    "\n",
    "# Count how many times each unique value occurs in the column 'Forwarder'\n",
    "print(\"Number of times each forwarder occurs:\")\n",
    "display(df['Forwarder'].value_counts())\n",
    "\n",
    "# create a new temp dataframe where value_counts() is stored\n",
    "temp = df['Forwarder'].value_counts().reset_index()\n",
    "temp.columns = ['Forwarder', 'Count']\n"
   ]
  },
  {
   "cell_type": "code",
   "execution_count": null,
   "metadata": {},
   "outputs": [],
   "source": [
    "\n",
    "xy_gr = df.groupby(['Sender', 'Forwarder'])['Forwarder'].count()\n",
    "xy_gr = xy_gr.to_frame(name=\"count\").reset_index()\n",
    "\n",
    "\n",
    "### Who communicates the most between each others \n",
    "display(xy_gr.sort_values(by='count', ascending=False).head(5))\n",
    "\n",
    "xy_gr['pairs'] = xy_gr['Sender'] + \"|\"+ xy_gr['Forwarder']\n"
   ]
  },
  {
   "cell_type": "code",
   "execution_count": null,
   "metadata": {},
   "outputs": [],
   "source": [
    "\n",
    "######## Gephi Data ########\n",
    "\n",
    "# Edges DF\n",
    "gephi_edges = xy_gr\n",
    "gephi_edges.rename(columns = {'Sender':'Source', \n",
    "                              'Forwarder':'Target', \n",
    "                              'count':'count_weight'}, inplace = True)\n",
    "display(gephi_edges.head(2))\n",
    "\n",
    "# create a folder \"network_processing_v1\" to store the gephi data\n",
    "if not os.path.exists('network_processing_gephi'):\n",
    "    os.makedirs('network_processing_gephi')\n",
    "\n",
    "gephi_edges.to_csv(\"network_processing_gephi/edges_gephi.csv\", index=False)\n"
   ]
  },
  {
   "cell_type": "code",
   "execution_count": null,
   "metadata": {},
   "outputs": [],
   "source": [
    "# Nodes DF (Long Aleph ID + Email)\n",
    "\n",
    "# make a unique list of all senders and forwarders from the edges dataframe\n",
    "senders = gephi_edges['Source'].unique()\n",
    "forwarders = gephi_edges['Target'].unique()\n",
    "nodes = pd.concat([pd.DataFrame(senders), pd.DataFrame(forwarders)]).reset_index(drop=True)\n",
    "nodes.columns = ['Label']\n",
    "nodes['ID'] = nodes.index + 1\n",
    "\n",
    "# add nodes ID to the edges dataframe\n",
    "gephi_edges = gephi_edges.merge(nodes, left_on='Source', right_on='Label', how='left')\n",
    "gephi_edges.rename(columns = {'ID':'Source_ID'}, inplace = True)\n",
    "#gephi_edges = gephi_edges.drop(columns=['Label'])\n",
    "\n"
   ]
  },
  {
   "cell_type": "code",
   "execution_count": null,
   "metadata": {},
   "outputs": [],
   "source": [
    "### Text Analysis ###\n",
    "\n",
    "# Create a plot: number of messages per day by each sender\n",
    "df['Date'] = pd.to_datetime(df['Date'])\n",
    "df['Date'] = df['Date'].dt.date\n",
    "date_gr = df.groupby(['Date', 'Sender'])['Sender'].count()\n",
    "date_gr = date_gr.to_frame(name=\"count\").reset_index()\n",
    "display(date_gr.head(5))\n",
    "\n",
    "# Visualize the number of messages per day by each sender\n",
    "import seaborn as sns\n",
    "import matplotlib.pyplot as plt\n",
    "\n",
    "plt.figure(figsize=(15, 6))\n",
    "sns.lineplot(x='Date', y='count', hue='Sender', data=date_gr)\n",
    "plt.xticks(rotation=45)\n",
    "plt.show()\n"
   ]
  },
  {
   "cell_type": "code",
   "execution_count": null,
   "metadata": {},
   "outputs": [],
   "source": [
    "# Visualize the number of messages per day by each sender\n",
    "import seaborn as sns\n",
    "import matplotlib.pyplot as plt\n",
    "\n",
    "# Rewrite this for vega_datasets library\n",
    "plt.figure(figsize=(15, 6))\n",
    "sns.lineplot(x='Date', y='count', hue='Sender', data=date_gr)\n",
    "plt.xticks(rotation=45)\n",
    "plt.show()\n"
   ]
  }
 ],
 "metadata": {
  "language_info": {
   "name": "python"
  }
 },
 "nbformat": 4,
 "nbformat_minor": 2
}
