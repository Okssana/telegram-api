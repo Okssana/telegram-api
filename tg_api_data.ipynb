{
 "cells": [
  {
   "cell_type": "code",
   "execution_count": null,
   "metadata": {},
   "outputs": [],
   "source": []
  },
  {
   "cell_type": "code",
   "execution_count": null,
   "metadata": {},
   "outputs": [],
   "source": [
    "from telethon import TelegramClient, events, errors\n",
    "\n",
    "# Your API ID and Hash\n",
    "api_id = 'XXXXXXXXXXXXXXXXXXXXXXXXXX'  # Replace with your actual API ID\n",
    "api_hash = 'XXXXXXXXXXXXXXXXXXXXXXXXXX'  # Replace with your actual API Hash\n",
    "client = TelegramClient('session_name', api_id, api_hash)\n",
    "\n",
    "channel = 'dshrg2'  # Channel username\n",
    "\n",
    "# Function to fetch messages\n",
    "async def fetch_messages(channel_name):\n",
    "    async with client:\n",
    "        # Start the client\n",
    "        await client.start()\n",
    "\n",
    "        # Get the channel\n",
    "        channel = await client.get_entity(channel_name)\n",
    "\n",
    "        # Fetch messages and check if they are forwarded\n",
    "        async for message in client.iter_messages(channel):\n",
    "            #print(message)\n",
    "\n",
    "            #print(\"ID:\", message.id, \"Date:\", message.date, \"Text:\", message.text, )\n",
    "\n",
    "\n",
    "            if message.forward:\n",
    "                print(\"Forwarded message:\")\n",
    "                #print(message)\n",
    "                \n",
    "                print(\"ID:\", message.id, \"Text:\", message.text, \n",
    "                      \"Date:\", message.date, \"Forwarded from:\", message.forward.sender_id)\n",
    "\n",
    "                # Get the sender's user or channel object\n",
    "                sender = await message.get_sender()\n",
    "                sender_name = sender.username if sender.username else (sender.title if hasattr(sender, 'title') else 'Unknown')\n",
    "\n",
    "                # Try to get the forwarder's user or channel object\n",
    "                forwarder_name = 'Unknown'\n",
    "                if message.forward.original_fwd:\n",
    "                    try:\n",
    "                        forwarder = await client.get_entity(message.forward.from_id)\n",
    "                        forwarder_name = forwarder.username if hasattr(forwarder, 'username') and forwarder.username else (forwarder.title if hasattr(forwarder, 'title') else 'Unknown')\n",
    "                    except (ValueError, errors.ChannelPrivateError):\n",
    "                        forwarder_name = 'Inaccessible or Deleted Channel'\n",
    "\n",
    "                print(f\"Sender: {sender_name}, Forwarder: {forwarder_name}\")\n",
    "\n",
    "\n",
    "        # Disconnect the client\n",
    "        await client.disconnect()\n",
    "\n",
    "# Use await directly to run the coroutine\n",
    "await fetch_messages('dshrg2')\n"
   ]
  }
 ],
 "metadata": {
  "language_info": {
   "name": "python"
  }
 },
 "nbformat": 4,
 "nbformat_minor": 2
}
